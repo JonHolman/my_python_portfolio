{
 "cells": [
  {
   "cell_type": "code",
   "execution_count": null,
   "metadata": {},
   "outputs": [],
   "source": [
    "import pymssql\n",
    "import lightgbm as lgb\n",
    "import pandas as pd\n",
    "from sklearn.model_selection import train_test_split\n"
   ]
  },
  {
   "cell_type": "code",
   "execution_count": null,
   "metadata": {},
   "outputs": [],
   "source": [
    "server = 'localhost'\n",
    "user = 'pythonuser'\n",
    "password = input('Supply DB Password: ')\n",
    "database = 'CaseStudy'\n",
    "\n",
    "try:\n",
    "    conn = pymssql.connect(server, user, password, database)\n",
    "    cursor = conn.cursor(as_dict=True)\n",
    "\n",
    "    cursor.callproc('mlb.getTrainingData_MultiHit')\n",
    "    cursor.nextset()\n",
    "    results = cursor.fetchall()\n",
    "    training_data = pd.DataFrame(results) \n",
    "except Exception as e:\n",
    "    print ('Exception',str(e))\n",
    "finally:\n",
    "    conn.close()\n",
    "    "
   ]
  },
  {
   "cell_type": "code",
   "execution_count": null,
   "metadata": {},
   "outputs": [],
   "source": [
    "# verify the size of the training data set\n",
    "training_data.shape\n"
   ]
  },
  {
   "cell_type": "code",
   "execution_count": null,
   "metadata": {},
   "outputs": [],
   "source": [
    "# removing individual descriptive columns, we want to ensure we do not train on\n",
    "training_data = training_data.drop(['gameId','Date','batter_id','pitcher_id'], axis=1)\n"
   ]
  },
  {
   "cell_type": "code",
   "execution_count": null,
   "metadata": {},
   "outputs": [],
   "source": [
    "# create training and testing splits\n",
    "df_train, df_test = train_test_split(training_data, test_size=0.1, random_state=42)\n"
   ]
  },
  {
   "cell_type": "code",
   "execution_count": null,
   "metadata": {},
   "outputs": [],
   "source": [
    "y_train = df_train['outcome'].values\n",
    "y_test = df_test['outcome'].values\n",
    "X_train = df_train.drop('outcome', axis=1).values\n",
    "X_test = df_test.drop('outcome', axis=1).values\n"
   ]
  },
  {
   "cell_type": "code",
   "execution_count": null,
   "metadata": {},
   "outputs": [],
   "source": [
    "# create dataset for lightgbm\n",
    "lgb_train = lgb.Dataset(X_train, y_train)\n",
    "lgb_eval = lgb.Dataset(X_test, y_test, reference=lgb_train)\n",
    "\n",
    "print('Start training...')\n",
    "\n",
    "gbm = lgb.LGBMClassifier()\n",
    "\n",
    "gbm.fit(X_train, y_train, eval_set=[(X_test, y_test)], verbose=False)\n",
    "\n",
    "print('Done Training.')"
   ]
  },
  {
   "cell_type": "code",
   "execution_count": null,
   "metadata": {},
   "outputs": [],
   "source": [
    "from sklearn.externals import joblib\n",
    "# save model\n",
    "joblib.dump(gbm, 'LGBMClassifier_Train_New_MultiHit.pkl')\n",
    "# load model\n",
    "gbm = joblib.load('LGBMClassifier_Train_New_MultiHit.pkl')"
   ]
  },
  {
   "cell_type": "code",
   "execution_count": null,
   "metadata": {},
   "outputs": [],
   "source": [
    "results = pd.DataFrame( X_test.copy() )\n",
    "predicted_probabilities = gbm.predict_proba(results)\n",
    "results['predicted_probabilities'] = [el[1] for el in predicted_probabilities]\n",
    "results['Success'] = y_test\n"
   ]
  },
  {
   "cell_type": "code",
   "execution_count": null,
   "metadata": {},
   "outputs": [],
   "source": []
  },
  {
   "cell_type": "code",
   "execution_count": null,
   "metadata": {},
   "outputs": [],
   "source": [
    "# later for serving the model\n",
    "\n",
    "try:\n",
    "    conn = pymssql.connect(server, user, password, database)\n",
    "    cursor = conn.cursor(as_dict=True)\n",
    "\n",
    "    cursor.callproc('mlb.getTodayStatsForNewTrainedModel')\n",
    "    cursor.nextset()\n",
    "    results = cursor.fetchall()\n",
    "    today = pd.DataFrame(results,columns=['Batter', 'gameId', 'Date', 'batter_id', 'pitcher_id', 'BatterAvgHitsPerGameLast104', 'BatterAvgHitsPerGameLast1800', 'BatterAvgHitsPerGameThisSeason', 'BatterAvgHitsPerGame_InLast10Quarters', 'BatterAvgHitsPerGame_InLast11Quarters', 'BatterAvgHitsPerGame_InLast12Quarters', 'BatterAvgHitsPerGame_InLast13Quarters', 'BatterAvgHitsPerGame_InLast15Quarters', 'BatterAvgHitsPerGame_InLast16Quarters', 'BatterAvgHitsPerGame_InLast17Quarters', 'BatterAvgHitsPerGame_InLast18Quarters', 'BatterAvgHitsPerGame_InLast19Quarters', 'BatterAvgHitsPerGame_InLast20Quarters', 'BatterAvgHitsPerGame_InLast3Quarters', 'BatterAvgHitsPerGame_InLast4Quarters', 'BatterAvgHitsPerGame_InLast5Quarters', 'BatterAvgHitsPerGame_InLast6Quarters', 'BatterAvgHitsPerGame_InLast7Quarters', 'BatterAvgHitsPerGame_InLast8Quarters', 'BatterAvgHitsPerGame_InLast9Quarters', 'BatterGamesInLast104', 'BatterGamesInLast1800', 'BatterGamesInLast42Days', 'BatterGamesInLast708Days', 'BatterGamesThisSeason', 'BatterGwH_InLast9Quarters', 'BatterLast42Hits', 'BatterTimeOfDayAvgLast999', 'HistAB', 'OppAvg_InLast16Quarters', 'OppAvg_InLast4Quarters', 'OppAvg_InLast5Quarters', 'OppAvg_InLast6Quarters', 'OppAvg_InLast7Quarters', 'PitcherGamesStartedInLast568', 'PitcherGames_InLast4Quarters', 'PitcherOppAvg568', 'StadiumAVG_InLast11Quarters', 'StadiumAVG_InLast1Quarters', 'StadiumAVG_InLast2Quarters', 'StadiumAVG_InLast3Quarters', 'StadiumAVG_InLast4Quarters', 'StadiumAVG_InLast5Quarters', 'StadiumAVG_InLast9Quarters', 'StadiumGwH602', 'ab_InLast20Day', 'ab_InLast6Day', 'avgHitsPerGameStarted_InLast16Quarters', 'avg_InLast10Day', 'bAvg_InLast18Quarters', 'bAvg_InLast8Quarters', 'bGamesWithAHit708', 'batterTeamAvgLast924', 'h_InLast10Day', 'h_InLast22Day', 'h_InLast24Day', 'h_InLast3Day', 'pAvgVsHandedBatter_InLast3Quarters', 'pAvgVsHandedBatter_InLast4Quarters', 'pHits_InLast8Quarters', 'pitcherTeamAvgLast761', 'pitcherTeamAvg_InLast1Quarters', 'pitcherTeamAvg_InLast2Quarters', 'pitcherTeamAvg_InLast3Quarters', 'pitcherTeamAvg_InLast6Quarters', 'tpa_InLast19Day', 'tpa_InLast1Day']) \n",
    "except Exception as e:\n",
    "    print ('Exception',str(e))\n",
    "finally:\n",
    "    conn.close()\n",
    "  \n",
    "todayForModel = today.drop(['Batter', 'gameId', 'Date', 'batter_id', 'pitcher_id'], axis=1)\n",
    "\n",
    "# confirm columns order is as expected\n",
    "assert list(todayForModel) == ['BatterAvgHitsPerGameLast104', 'BatterAvgHitsPerGameLast1800', 'BatterAvgHitsPerGameThisSeason', 'BatterAvgHitsPerGame_InLast10Quarters', 'BatterAvgHitsPerGame_InLast11Quarters', 'BatterAvgHitsPerGame_InLast12Quarters', 'BatterAvgHitsPerGame_InLast13Quarters', 'BatterAvgHitsPerGame_InLast15Quarters', 'BatterAvgHitsPerGame_InLast16Quarters', 'BatterAvgHitsPerGame_InLast17Quarters', 'BatterAvgHitsPerGame_InLast18Quarters', 'BatterAvgHitsPerGame_InLast19Quarters', 'BatterAvgHitsPerGame_InLast20Quarters', 'BatterAvgHitsPerGame_InLast3Quarters', 'BatterAvgHitsPerGame_InLast4Quarters', 'BatterAvgHitsPerGame_InLast5Quarters', 'BatterAvgHitsPerGame_InLast6Quarters', 'BatterAvgHitsPerGame_InLast7Quarters', 'BatterAvgHitsPerGame_InLast8Quarters', 'BatterAvgHitsPerGame_InLast9Quarters', 'BatterGamesInLast104', 'BatterGamesInLast1800', 'BatterGamesInLast42Days', 'BatterGamesInLast708Days', 'BatterGamesThisSeason', 'BatterGwH_InLast9Quarters', 'BatterLast42Hits', 'BatterTimeOfDayAvgLast999', 'HistAB', 'OppAvg_InLast16Quarters', 'OppAvg_InLast4Quarters', 'OppAvg_InLast5Quarters', 'OppAvg_InLast6Quarters', 'OppAvg_InLast7Quarters', 'PitcherGamesStartedInLast568', 'PitcherGames_InLast4Quarters', 'PitcherOppAvg568', 'StadiumAVG_InLast11Quarters', 'StadiumAVG_InLast1Quarters', 'StadiumAVG_InLast2Quarters', 'StadiumAVG_InLast3Quarters', 'StadiumAVG_InLast4Quarters', 'StadiumAVG_InLast5Quarters', 'StadiumAVG_InLast9Quarters', 'StadiumGwH602', 'ab_InLast20Day', 'ab_InLast6Day', 'avgHitsPerGameStarted_InLast16Quarters', 'avg_InLast10Day', 'bAvg_InLast18Quarters', 'bAvg_InLast8Quarters', 'bGamesWithAHit708', 'batterTeamAvgLast924', 'h_InLast10Day', 'h_InLast22Day', 'h_InLast24Day', 'h_InLast3Day', 'pAvgVsHandedBatter_InLast3Quarters', 'pAvgVsHandedBatter_InLast4Quarters', 'pHits_InLast8Quarters', 'pitcherTeamAvgLast761', 'pitcherTeamAvg_InLast1Quarters', 'pitcherTeamAvg_InLast2Quarters', 'pitcherTeamAvg_InLast3Quarters', 'pitcherTeamAvg_InLast6Quarters', 'tpa_InLast19Day', 'tpa_InLast1Day']\n",
    "\n",
    "preds_proba = gbm.predict_proba( todayForModel )      \n",
    "\n",
    "today['predicted_probabilities'] = [el[1] for el in preds_proba]\n",
    "today = today.sort_values(['predicted_probabilities'], ascending=[0])\n",
    "\n",
    "today[['Date','Batter','predicted_probabilities']]\n"
   ]
  }
 ],
 "metadata": {
  "hide_input": false,
  "kernelspec": {
   "display_name": "Python 3",
   "language": "python",
   "name": "python3"
  },
  "language_info": {
   "codemirror_mode": {
    "name": "ipython",
    "version": 3
   },
   "file_extension": ".py",
   "mimetype": "text/x-python",
   "name": "python",
   "nbconvert_exporter": "python",
   "pygments_lexer": "ipython3",
   "version": "3.7.3"
  }
 },
 "nbformat": 4,
 "nbformat_minor": 2
}
